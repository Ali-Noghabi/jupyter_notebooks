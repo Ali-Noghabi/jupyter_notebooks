{
  "cells": [
    {
      "cell_type": "markdown",
      "metadata": {
        "id": "view-in-github",
        "colab_type": "text"
      },
      "source": [
        "<a href=\"https://colab.research.google.com/github/Ali-Noghabi/face-mask-detection/blob/main/mask_detector/train_mask_detector.ipynb\" target=\"_parent\"><img src=\"https://colab.research.google.com/assets/colab-badge.svg\" alt=\"Open In Colab\"/></a>"
      ]
    },
    {
      "cell_type": "markdown",
      "id": "8fd7a158",
      "metadata": {
        "id": "8fd7a158"
      },
      "source": [
        "# Mask Detector Model Training\n"
      ]
    },
    {
      "cell_type": "markdown",
      "id": "c74331ca",
      "metadata": {
        "id": "c74331ca"
      },
      "source": [
        "## Introduction\n",
        "\n",
        "This project involves training a custom mask detector model using deep learning techniques. The trained model can then be used to detect masks in real-time video streams or webcam feeds. The project leverages TensorFlow for training the model and OpenCV for real-time video processing.\n"
      ]
    },
    {
      "cell_type": "markdown",
      "id": "61a67087",
      "metadata": {
        "id": "61a67087"
      },
      "source": [
        "## Project Setup\n",
        "\n",
        "To run this project, you need to set up your environment and install the required libraries.\n",
        "\n",
        "### Libraries Used\n",
        "\n",
        "- **TensorFlow**: For training the mask detection model.\n",
        "- **OpenCV**: For real-time video processing and face detection.\n",
        "- **imutils**: For basic image processing functions.\n",
        "- **NumPy**: For numerical operations.\n",
        "- **Matplotlib**: For plotting training results.\n",
        "\n",
        "### Installation\n",
        "\n",
        "To install the necessary libraries, run:\n",
        "\n",
        "```bash\n",
        "pip install tensorflow opencv-python imutils numpy matplotlib\n",
        "```\n"
      ]
    },
    {
      "cell_type": "markdown",
      "id": "8c878c34",
      "metadata": {
        "id": "8c878c34"
      },
      "source": [
        "### Directory Structure\n",
        "\n",
        "- `data/with_mask`: Directory containing images of people with masks.\n",
        "- `data/without_mask`: Directory containing images of people without masks.\n",
        "\n",
        "[images source](https://github.com/prajnasb/observations/tree/master)"
      ]
    },
    {
      "cell_type": "code",
      "execution_count": null,
      "id": "2f3ba3a4",
      "metadata": {
        "id": "2f3ba3a4"
      },
      "outputs": [],
      "source": [
        "!pip install tensorflow opencv-python imutils numpy matplotlib"
      ]
    },
    {
      "cell_type": "markdown",
      "id": "2f1bcb53",
      "metadata": {
        "id": "2f1bcb53"
      },
      "source": [
        "### Importing Libraries\n",
        "\n",
        "Import the necessary libraries required for loading data, preprocessing, model training, and evaluation.\n"
      ]
    },
    {
      "cell_type": "code",
      "execution_count": null,
      "id": "7c2fef0a",
      "metadata": {
        "id": "7c2fef0a"
      },
      "outputs": [],
      "source": [
        "import os\n",
        "import numpy as np\n",
        "import cv2\n",
        "from tensorflow.keras.preprocessing.image import ImageDataGenerator\n",
        "from tensorflow.keras.applications.mobilenet_v2 import preprocess_input\n",
        "from tensorflow.keras.utils import to_categorical\n",
        "from tensorflow.keras.models import Sequential\n",
        "from tensorflow.keras.layers import Dense, Conv2D, MaxPooling2D, Flatten, Dropout, Input\n",
        "from sklearn.model_selection import train_test_split\n",
        "from sklearn.preprocessing import LabelBinarizer\n",
        "from sklearn.metrics import classification_report"
      ]
    },
    {
      "cell_type": "markdown",
      "id": "1f783561",
      "metadata": {
        "id": "1f783561"
      },
      "source": [
        "## Model Training\n",
        "\n",
        "To train your own mask detector model, follow these steps:\n",
        "\n",
        "1. **Prepare Dataset**: Collect and organize a dataset with images of faces with and without masks. Organize the dataset into two directories: `with_mask` and `without_mask`.\n",
        "2. **Train Model**: Use the provided `train_mask_detector.py` script to train the model. This script uses a deep learning framework to train a mask detection model on your dataset.\n",
        "\n",
        "### Training Script\n",
        "\n",
        "The training script `train_mask_detector.py` performs the following steps:\n",
        "\n",
        "- Loads and preprocesses the images from the dataset.\n",
        "- Splits the data into training and testing sets.\n",
        "- Defines a convolutional neural network (CNN) for mask detection.\n",
        "- Trains the model using data augmentation.\n",
        "- Saves the trained model.\n",
        "\n",
        "#### Data Loading and Preprocessing\n",
        "Images are loaded, converted to RGB, resized to 224x224 pixels, and stored in arrays.\n"
      ]
    },
    {
      "cell_type": "code",
      "execution_count": null,
      "id": "695d6e6c",
      "metadata": {
        "id": "695d6e6c"
      },
      "outputs": [],
      "source": [
        "# Define paths\n",
        "dataset_path = 'data'\n",
        "categories = ['with_mask', 'without_mask']\n",
        "\n",
        "data = []\n",
        "labels = []\n",
        "\n",
        "for category in categories:\n",
        "    path = os.path.join(dataset_path, category)\n",
        "    class_num = categories.index(category)\n",
        "    for img in os.listdir(path):\n",
        "        try:\n",
        "            img_path = os.path.join(path, img)\n",
        "            img_array = cv2.imread(img_path)\n",
        "            img_array = cv2.cvtColor(img_array, cv2.COLOR_BGR2RGB)\n",
        "            img_array = cv2.resize(img_array, (224, 224))\n",
        "            data.append(img_array)\n",
        "            labels.append(class_num)\n",
        "        except Exception as e:\n",
        "            print(f\"Error loading image {img_path}: {e}\")\n",
        "\n",
        "data = np.array(data, dtype=\"float32\")\n",
        "labels = np.array(labels)\n",
        "\n",
        "lb = LabelBinarizer()\n",
        "labels = lb.fit_transform(labels)\n",
        "labels = to_categorical(labels)\n",
        "\n",
        "data = preprocess_input(data)\n",
        "\n",
        "(trainX, testX, trainY, testY) = train_test_split(data, labels, test_size=0.2, stratify=labels, random_state=42)\n"
      ]
    },
    {
      "cell_type": "markdown",
      "id": "c5becc2e",
      "metadata": {
        "id": "c5becc2e"
      },
      "source": [
        "#### Label Encoding and Data Augmentation\n",
        "Labels are encoded, and data augmentation is set up to improve model generalization.\n"
      ]
    },
    {
      "cell_type": "code",
      "execution_count": null,
      "id": "c4e28b04",
      "metadata": {
        "id": "c4e28b04"
      },
      "outputs": [],
      "source": [
        "aug = ImageDataGenerator(\n",
        "    rotation_range=20,\n",
        "    zoom_range=0.15,\n",
        "    width_shift_range=0.2,\n",
        "    height_shift_range=0.2,\n",
        "    shear_range=0.15,\n",
        "    horizontal_flip=True,\n",
        "    fill_mode=\"nearest\")\n"
      ]
    },
    {
      "cell_type": "markdown",
      "id": "aab23fc1",
      "metadata": {
        "id": "aab23fc1"
      },
      "source": [
        "#### Model Definition and Training\n",
        "A CNN is defined, compiled, and trained using the preprocessed data.\n"
      ]
    },
    {
      "cell_type": "code",
      "execution_count": null,
      "id": "06c680f3",
      "metadata": {
        "id": "06c680f3"
      },
      "outputs": [],
      "source": [
        "model = Sequential([\n",
        "    Input(shape=(224, 224, 3)),\n",
        "    Conv2D(32, (3, 3), activation='relu'),\n",
        "    MaxPooling2D(pool_size=(2, 2)),\n",
        "    Conv2D(64, (3, 3), activation='relu'),\n",
        "    MaxPooling2D(pool_size=(2, 2)),\n",
        "    Conv2D(128, (3, 3), activation='relu'),\n",
        "    MaxPooling2D(pool_size=(2, 2)),\n",
        "    Flatten(),\n",
        "    Dense(128, activation='relu'),\n",
        "    Dropout(0.5),\n",
        "    Dense(2, activation='softmax')\n",
        "])\n",
        "\n",
        "model.compile(loss=\"binary_crossentropy\", optimizer=\"adam\", metrics=[\"accuracy\"])\n",
        "\n",
        "history = model.fit(\n",
        "    aug.flow(trainX, trainY, batch_size=32),\n",
        "    validation_data=(testX, testY),\n",
        "    epochs=20\n",
        ")\n",
        "\n",
        "model.save(\"mask_detector_model.keras\")\n"
      ]
    }
  ],
  "metadata": {
    "kernelspec": {
      "display_name": "Python 3 (ipykernel)",
      "language": "python",
      "name": "python3"
    },
    "language_info": {
      "codemirror_mode": {
        "name": "ipython",
        "version": 3
      },
      "file_extension": ".py",
      "mimetype": "text/x-python",
      "name": "python",
      "nbconvert_exporter": "python",
      "pygments_lexer": "ipython3",
      "version": "3.10.9"
    },
    "colab": {
      "provenance": [],
      "include_colab_link": true
    }
  },
  "nbformat": 4,
  "nbformat_minor": 5
}
