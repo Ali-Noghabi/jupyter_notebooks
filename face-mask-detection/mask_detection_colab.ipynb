{
  "cells": [
    {
      "cell_type": "markdown",
      "metadata": {
        "id": "view-in-github",
        "colab_type": "text"
      },
      "source": [
        "<a href=\"https://colab.research.google.com/github/Ali-Noghabi/face-mask-detection/blob/main/mask_detection.ipynb\" target=\"_parent\"><img src=\"https://colab.research.google.com/assets/colab-badge.svg\" alt=\"Open In Colab\"/></a>"
      ]
    },
    {
      "cell_type": "markdown",
      "id": "f07d55ff",
      "metadata": {
        "id": "f07d55ff"
      },
      "source": [
        "# Real-Time Mask Detection"
      ]
    },
    {
      "cell_type": "markdown",
      "id": "fcbf7676",
      "metadata": {
        "id": "fcbf7676"
      },
      "source": [
        "## Introduction\n",
        "\n",
        "This project involves real-time mask detection using a pre-trained neural network. It can detect faces in video streams or webcam feeds and classify whether the person is wearing a mask or not. The project leverages deep learning techniques and computer vision to provide accurate and real-time mask detection.\n"
      ]
    },
    {
      "cell_type": "markdown",
      "id": "f1688d34",
      "metadata": {
        "id": "f1688d34"
      },
      "source": [
        "## Project Setup\n",
        "\n",
        "To run this project, you need to set up your environment and install the required libraries.\n",
        "\n",
        "### Libraries Used\n",
        "\n",
        "- **TensorFlow**: For loading and running the mask detection model.\n",
        "- **OpenCV**: For real-time video processing and face detection.\n",
        "- **imutils**: For basic image processing functions.\n",
        "- **NumPy**: For numerical operations.\n",
        "\n",
        "### Installation\n",
        "\n",
        "To install the necessary libraries, run:\n",
        "\n",
        "```bash\n",
        "pip install tensorflow opencv-python imutils numpy\n",
        "```\n",
        "\n",
        "### Directory Structure\n",
        "\n",
        "- `face_detector/deploy.prototxt`: Configuration file for the face detection model.\n",
        "- `face_detector/res10_300x300_ssd_iter_140000.caffemodel`: Pre-trained weights for the face detection model.\n",
        "- `mask_detector/mask_detector_model.keras`: Pre-trained mask detector model.\n",
        "- `mask_detection.py`: Main script to run the mask detection.\n"
      ]
    },
    {
      "cell_type": "code",
      "execution_count": null,
      "id": "f7c42a53",
      "metadata": {
        "id": "f7c42a53"
      },
      "outputs": [],
      "source": [
        "!pip install tensorflow opencv-python imutils numpy"
      ]
    },
    {
      "cell_type": "markdown",
      "id": "d027addd",
      "metadata": {
        "id": "d027addd"
      },
      "source": [
        "## Detect and Predict\n",
        "\n",
        "The core functionality of the project involves detecting faces in a video frame and predicting whether a mask is worn. This is achieved using the following functions:\n",
        "\n",
        "### Face Detection\n",
        "\n",
        "Faces are detected using a pre-trained Caffe model. The model configuration is loaded from `deploy.prototxt` and the weights are loaded from `res10_300x300_ssd_iter_140000.caffemodel`.\n",
        "\n",
        "```python\n",
        "prototxtPath = \"face_detector/deploy.prototxt\"\n",
        "weightsPath = \"face_detector/res10_300x300_ssd_iter_140000.caffemodel\"\n",
        "faceNet = cv2.dnn.readNet(prototxtPath, weightsPath)\n",
        "```\n"
      ]
    },
    {
      "cell_type": "code",
      "execution_count": null,
      "id": "112dffb5",
      "metadata": {
        "id": "112dffb5"
      },
      "outputs": [],
      "source": [
        "from tensorflow.keras.applications.mobilenet_v2 import preprocess_input\n",
        "from tensorflow.keras.preprocessing.image import img_to_array\n",
        "from tensorflow.keras.models import load_model\n",
        "import numpy as np\n",
        "import cv2\n",
        "import os"
      ]
    },
    {
      "cell_type": "markdown",
      "id": "e34d2912",
      "metadata": {
        "id": "e34d2912"
      },
      "source": [
        "### Mask Detection\n",
        "\n",
        "The [mask detection model](mask_detector\\README.md) is a pre-trained Keras model loaded from `mask_detector_model.keras`. The model predicts the presence of a mask in detected faces.\n",
        "\n",
        "```python\n",
        "maskNet = load_model(\"mask_detector/mask_detector_model.keras\")\n",
        "```\n"
      ]
    },
    {
      "cell_type": "markdown",
      "id": "9a5aaafd",
      "metadata": {
        "id": "9a5aaafd"
      },
      "source": [
        "### Detection and Prediction Function\n",
        "\n",
        "This function processes each video frame, detects faces, and predicts mask usage.\n"
      ]
    },
    {
      "cell_type": "code",
      "execution_count": null,
      "id": "a29087df",
      "metadata": {
        "id": "a29087df"
      },
      "outputs": [],
      "source": [
        "def detect_and_predict_mask(frame, faceNet, maskNet):\n",
        "    (h, w) = frame.shape[:2]\n",
        "    blob = cv2.dnn.blobFromImage(frame, 1.0, (300, 300), (104.0, 177.0, 123.0))\n",
        "\n",
        "    faceNet.setInput(blob)\n",
        "    detections = faceNet.forward()\n",
        "    print(detections.shape)\n",
        "\n",
        "    faces = []\n",
        "    locs = []\n",
        "    preds = []\n",
        "\n",
        "    for i in range(0, detections.shape[2]):\n",
        "        confidence = detections[0, 0, i, 2]\n",
        "\n",
        "        if confidence > 0.5:\n",
        "            box = detections[0, 0, i, 3:7] * np.array([w, h, w, h])\n",
        "            (startX, startY, endX, endY) = box.astype(\"int\")\n",
        "\n",
        "            (startX, startY) = (max(0, startX), max(0, startY))\n",
        "            (endX, endY) = (min(w - 1, endX), min(h - 1, endY))\n",
        "\n",
        "            face = frame[startY:endY, startX:endX]\n",
        "            if face.shape[0] == 0 or face.shape[1] == 0:\n",
        "                continue\n",
        "\n",
        "            face = cv2.cvtColor(face, cv2.COLOR_BGR2RGB)\n",
        "            face = cv2.resize(face, (224, 224))\n",
        "            face = img_to_array(face)\n",
        "            face = preprocess_input(face)\n",
        "\n",
        "            faces.append(face)\n",
        "            locs.append((startX, startY, endX, endY))\n",
        "\n",
        "    if len(faces) > 0:\n",
        "        faces = np.array(faces, dtype=\"float32\")\n",
        "        preds = maskNet.predict(faces, batch_size=32)\n",
        "\n",
        "    return (locs, preds)"
      ]
    },
    {
      "cell_type": "markdown",
      "id": "9740c5bc",
      "metadata": {
        "id": "9740c5bc"
      },
      "source": [
        "## Running the Project\n",
        "\n",
        "To run the project, you can process either a video file or use a live webcam feed.\n",
        "\n",
        "### Processing a Video File\n",
        "\n",
        "Ensure that the video file is in the same directory as the script or provide the full path."
      ]
    },
    {
      "cell_type": "markdown",
      "id": "b5c88a01",
      "metadata": {
        "id": "b5c88a01"
      },
      "source": [
        "### Using the Webcam\n",
        "\n",
        "To use the webcam for real-time mask detection, simply run the script without any arguments:\n",
        "\n",
        "Press 'q' to exit the video display.\n"
      ]
    },
    {
      "cell_type": "code",
      "execution_count": null,
      "id": "3f143fb9",
      "metadata": {
        "id": "3f143fb9"
      },
      "outputs": [],
      "source": [
        "# Load face detector model\n",
        "prototxtPath = \"face_detector/deploy.prototxt\"\n",
        "weightsPath = \"face_detector/res10_300x300_ssd_iter_140000.caffemodel\"\n",
        "faceNet = cv2.dnn.readNet(prototxtPath, weightsPath)\n",
        "\n",
        "# Load mask detector model\n",
        "maskNet = load_model(\"mask_detector/mask_detector_model.keras\")"
      ]
    },
    {
      "cell_type": "code",
      "execution_count": null,
      "id": "3b6a8cdb",
      "metadata": {
        "id": "3b6a8cdb"
      },
      "outputs": [],
      "source": [
        "# Function to process video file\n",
        "def process_video(video_path):\n",
        "    cap = cv2.VideoCapture(video_path)\n",
        "\n",
        "    while cap.isOpened():\n",
        "        ret, frame = cap.read()\n",
        "        if not ret:\n",
        "            break\n",
        "\n",
        "        frame = cv2.resize(frame, (400, 400))\n",
        "\n",
        "        (locs, preds) = detect_and_predict_mask(frame, faceNet, maskNet)\n",
        "\n",
        "        for (box, pred) in zip(locs, preds):\n",
        "            (startX, startY, endX, endY) = box\n",
        "            (mask, withoutMask) = pred\n",
        "\n",
        "            label = \"Mask\" if mask > withoutMask else \"No Mask\"\n",
        "            color = (0, 255, 0) if label == \"Mask\" else (0, 0, 255)\n",
        "\n",
        "            label = \"{}: {:.2f}%\".format(label, max(mask, withoutMask) * 100)\n",
        "\n",
        "            cv2.putText(frame, label, (startX, startY - 10),\n",
        "                        cv2.FONT_HERSHEY_SIMPLEX, 0.45, color, 2)\n",
        "            cv2.rectangle(frame, (startX, startY), (endX, endY), color, 2)\n",
        "\n",
        "        # Display the resulting frame\n",
        "        cv2.imshow('Frame', frame)\n",
        "\n",
        "        # Press 'q' to exit the video display\n",
        "        if cv2.waitKey(1) & 0xFF == ord('q'):\n",
        "            break\n",
        "\n",
        "    cap.release()\n",
        "    cv2.destroyAllWindows()\n",
        "\n",
        "# Example usage:\n",
        "# Ensure that you have the video file in the same directory or provide the full path\n",
        "video_path = 'video.mp4'\n",
        "process_video(video_path)"
      ]
    },
    {
      "cell_type": "code",
      "execution_count": null,
      "id": "09e0fdd5",
      "metadata": {
        "id": "09e0fdd5"
      },
      "outputs": [],
      "source": [
        "# Function to process the webcam feed\n",
        "def process_webcam():\n",
        "    cap = cv2.VideoCapture(0)\n",
        "\n",
        "    while True:\n",
        "        ret, frame = cap.read()\n",
        "        if not ret:\n",
        "            break\n",
        "\n",
        "        frame = cv2.resize(frame, (400, 400))\n",
        "\n",
        "        (locs, preds) = detect_and_predict_mask(frame, faceNet, maskNet)\n",
        "\n",
        "        for (box, pred) in zip(locs, preds):\n",
        "            (startX, startY, endX, endY) = box\n",
        "            (mask, withoutMask) = pred\n",
        "\n",
        "            label = \"Mask\" if mask > withoutMask else \"No Mask\"\n",
        "            color = (0, 255, 0) if label == \"Mask\" else (0, 0, 255)\n",
        "\n",
        "            label = \"{}: {:.2f}%\".format(label, max(mask, withoutMask) * 100)\n",
        "\n",
        "            cv2.putText(frame, label, (startX, startY - 10),\n",
        "                        cv2.FONT_HERSHEY_SIMPLEX, 0.45, color, 2)\n",
        "            cv2.rectangle(frame, (startX, startY), (endX, endY), color, 2)\n",
        "\n",
        "        # Display the resulting frame\n",
        "        cv2.imshow('Frame', frame)\n",
        "\n",
        "        # Press 'q' to exit the video display\n",
        "        if cv2.waitKey(1) & 0xFF == ord('q'):\n",
        "            break\n",
        "\n",
        "    cap.release()\n",
        "    cv2.destroyAllWindows()\n",
        "\n",
        "# Start live video processing from webcam\n",
        "process_webcam()"
      ]
    },
    {
      "cell_type": "markdown",
      "id": "6a7352d5",
      "metadata": {
        "id": "6a7352d5"
      },
      "source": [
        "## Results\n",
        "\n",
        "The project will display the video feed with bounding boxes around detected faces. Each box will have a label indicating whether a mask is detected or not, along with the confidence level.\n",
        "\n",
        "Example output:\n",
        "\n",
        "![Mask](with_mask.png)\n",
        "![NoMask](without_mask.png)\n"
      ]
    },
    {
      "cell_type": "markdown",
      "id": "5bc265a0",
      "metadata": {
        "id": "5bc265a0"
      },
      "source": [
        "## References\n",
        "\n",
        "- [TensorFlow](https://www.tensorflow.org/)\n",
        "- [OpenCV](https://opencv.org/)\n",
        "- [imutils](https://github.com/jrosebr1/imutils)\n",
        "- [NumPy](https://numpy.org/)\n"
      ]
    }
  ],
  "metadata": {
    "kernelspec": {
      "display_name": "Python 3 (ipykernel)",
      "language": "python",
      "name": "python3"
    },
    "language_info": {
      "codemirror_mode": {
        "name": "ipython",
        "version": 3
      },
      "file_extension": ".py",
      "mimetype": "text/x-python",
      "name": "python",
      "nbconvert_exporter": "python",
      "pygments_lexer": "ipython3",
      "version": "3.10.9"
    },
    "colab": {
      "provenance": [],
      "include_colab_link": true
    }
  },
  "nbformat": 4,
  "nbformat_minor": 5
}
